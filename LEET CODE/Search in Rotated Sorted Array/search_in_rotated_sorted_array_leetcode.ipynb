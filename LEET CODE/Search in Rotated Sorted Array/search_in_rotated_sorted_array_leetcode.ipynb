{
 "cells": [
  {
   "cell_type": "markdown",
   "id": "87d428e1",
   "metadata": {},
   "source": [
    "# Search in Rotated Sorted Array - Leetcode\n",
    "\n",
    "Link: <https://leetcode.com/problems/search-in-rotated-sorted-array/description>\n",
    "\n",
    "## Description\n",
    "\n",
    "There is an integer array nums sorted in ascending order (with distinct values).\n",
    "\n",
    "Prior to being passed to your function, nums is possibly left rotated at an unknown index k (1 <= k < nums.length) such that the resulting array is [nums[k], nums[k+1], ..., nums[n-1], nums[0], nums[1], ..., nums[k-1]] (0-indexed). For example, [0,1,2,4,5,6,7] might be left rotated by 3 indices and become [4,5,6,7,0,1,2].\n",
    "\n",
    "Given the array nums after the possible rotation and an integer target, return the index of target if it is in nums, or -1 if it is not in nums.\n",
    "\n",
    "You must write an algorithm with O(log n) runtime complexity.\n",
    "\n",
    "## Solution\n",
    "\n",
    "- In any rotated sorted array (with distinct elements), at least one half of [lo..mid] or [mid..hi] is sorted.\n",
    "- Check which half is sorted, see if target lies in that half’s range, and move lo/hi accordingly."
   ]
  },
  {
   "cell_type": "code",
   "execution_count": null,
   "id": "9c415954",
   "metadata": {},
   "outputs": [],
   "source": [
    "from typing import List\n",
    "\n",
    "class Solution:\n",
    "    def search(self, nums:List[int], target:int) -> int:\n",
    "        lo, hi = 0, len(nums) -1\n",
    "\n",
    "        while lo <= hi:\n",
    "            mid = (lo + hi) // 2\n",
    "            if nums[mid] == target:\n",
    "                return mid\n",
    "            if nums[lo] < nums[mid]:\n",
    "                if nums[lo] <= target < nums[mid]:\n",
    "                    hi = mid - 1\n",
    "                else:\n",
    "                    lo = mid + 1\n",
    "            else:\n",
    "                if nums[mid] < target <= nums[hi]:\n",
    "                    lo = mid + 1\n",
    "                else:\n",
    "                    hi = mid - 1\n",
    "        return -1"
   ]
  },
  {
   "cell_type": "code",
   "execution_count": null,
   "id": "ce079521",
   "metadata": {},
   "outputs": [],
   "source": [
    "# Testing\n",
    "\n",
    "s = Solution()\n",
    "\n",
    "print(s.search([4,5,6,7,0,1,2], 0))  # 4\n",
    "print(s.search([4,5,6,7,0,1,2], 3))  # -1\n",
    "print(s.search([1], 1))              # 0\n",
    "print(s.search([5,1,3], 5))          # 0\n",
    "print(s.search([5,1,3], 3))  "
   ]
  }
 ],
 "metadata": {
  "kernelspec": {
   "display_name": ".venv",
   "language": "python",
   "name": "python3"
  },
  "language_info": {
   "name": "python",
   "version": "-1.-1.-1"
  }
 },
 "nbformat": 4,
 "nbformat_minor": 5
}
