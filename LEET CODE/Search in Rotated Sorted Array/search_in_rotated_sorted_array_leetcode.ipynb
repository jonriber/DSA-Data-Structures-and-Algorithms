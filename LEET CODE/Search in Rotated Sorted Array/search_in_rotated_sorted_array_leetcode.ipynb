{
 "cells": [
  {
   "cell_type": "markdown",
   "id": "87d428e1",
   "metadata": {},
   "source": [
    "# Search in Rotated Sorted Array - Leetcode\n",
    "\n",
    "Link: <https://leetcode.com/problems/search-in-rotated-sorted-array/description>\n",
    "\n",
    "## Description\n",
    "\n",
    "There is an integer array nums sorted in ascending order (with distinct values).\n",
    "\n",
    "Prior to being passed to your function, nums is possibly left rotated at an unknown index k (1 <= k < nums.length) such that the resulting array is [nums[k], nums[k+1], ..., nums[n-1], nums[0], nums[1], ..., nums[k-1]] (0-indexed). For example, [0,1,2,4,5,6,7] might be left rotated by 3 indices and become [4,5,6,7,0,1,2].\n",
    "\n",
    "Given the array nums after the possible rotation and an integer target, return the index of target if it is in nums, or -1 if it is not in nums.\n",
    "\n",
    "You must write an algorithm with O(log n) runtime complexity."
   ]
  }
 ],
 "metadata": {
  "language_info": {
   "name": "python"
  }
 },
 "nbformat": 4,
 "nbformat_minor": 5
}
