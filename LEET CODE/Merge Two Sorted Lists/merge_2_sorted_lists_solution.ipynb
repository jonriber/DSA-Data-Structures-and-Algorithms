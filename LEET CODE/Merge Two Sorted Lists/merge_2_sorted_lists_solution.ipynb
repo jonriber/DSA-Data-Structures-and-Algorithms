{
 "cells": [
  {
   "cell_type": "markdown",
   "id": "ddc3e903",
   "metadata": {},
   "source": [
    "# Iterative solution\n",
    "\n",
    "Given heads of two sorted lists, list1 and list2, I need to merge two lists into one sorted list and return the head of the new list.\n",
    "\n"
   ]
  },
  {
   "cell_type": "code",
   "execution_count": null,
   "id": "2c29d891",
   "metadata": {},
   "outputs": [],
   "source": [
    "class ListNode:\n",
    "  def __init__(self, val=0, next=None):\n",
    "    self.val = val\n",
    "    self.next = next\n",
    "\n"
   ]
  },
  {
   "cell_type": "code",
   "execution_count": null,
   "id": "4b634352",
   "metadata": {},
   "outputs": [],
   "source": [
    "def mergeTwoLists(list1: ListNode, list2: ListNode) -> ListNode:\n",
    "  dummy = ListNode()\n",
    "  tail = dummy\n",
    "\n",
    "  while list1 and list2:\n",
    "    if list1.val < list2.val:\n",
    "      tail.next = list1\n",
    "      list1 = list1.next\n",
    "    else:\n",
    "      tail.next = list2\n",
    "      list2 = list2.next\n",
    "    tail = tail.next\n",
    "  \n",
    "  tail.next = list1 if list1 else list2\n",
    "\n",
    "  return dummy.next"
   ]
  }
 ],
 "metadata": {
  "language_info": {
   "name": "python"
  }
 },
 "nbformat": 4,
 "nbformat_minor": 5
}
