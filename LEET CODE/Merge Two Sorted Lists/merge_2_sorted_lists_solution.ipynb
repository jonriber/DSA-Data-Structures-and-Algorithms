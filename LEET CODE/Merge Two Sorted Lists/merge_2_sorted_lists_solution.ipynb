{
 "cells": [
  {
   "cell_type": "markdown",
   "id": "ddc3e903",
   "metadata": {},
   "source": [
    "# Iterative solution\n",
    "\n",
    "Given heads of two sorted lists, list1 and list2, I need to merge two lists into one sorted list and return the head of the new list.\n",
    "\n"
   ]
  },
  {
   "cell_type": "code",
   "execution_count": null,
   "id": "2c29d891",
   "metadata": {},
   "outputs": [],
   "source": [
    "class ListNode:\n",
    "  def __init__(self, val=0, next=None):\n",
    "    self.val = val\n",
    "    self.next = next\n",
    "\n"
   ]
  },
  {
   "cell_type": "code",
   "execution_count": null,
   "id": "4b634352",
   "metadata": {},
   "outputs": [],
   "source": [
    "def mergeTwoLists(list1: ListNode, list2: ListNode) -> ListNode:\n",
    "  dummy = ListNode()\n",
    "  tail = dummy\n",
    "\n",
    "  while list1 and list2:\n",
    "    if list1.val < list2.val:\n",
    "      tail.next = list1\n",
    "      list1 = list1.next\n",
    "    else:\n",
    "      tail.next = list2\n",
    "      list2 = list2.next\n",
    "    tail = tail.next\n",
    "  \n",
    "  tail.next = list1 if list1 else list2\n",
    "\n",
    "  return dummy.next"
   ]
  },
  {
   "cell_type": "markdown",
   "id": "a08d94f6",
   "metadata": {},
   "source": [
    "# Recursive Solution\n",
    "\n",
    "Using the same ListNode class and apply recursive technique "
   ]
  },
  {
   "cell_type": "code",
   "execution_count": null,
   "id": "b67adabb",
   "metadata": {},
   "outputs": [],
   "source": [
    "def mergeTwoListsRecursive(list1: ListNode, list2: ListNode) -> ListNode:\n",
    "\n",
    "  if not list1:\n",
    "    return list2\n",
    "  if not list2:\n",
    "    return list1\n",
    "  \n",
    "  if list1.val < list2.val:\n",
    "    list1.next = mergeTwoListsRecursive(list1.next, list2)\n",
    "    return list1\n",
    "  else:\n",
    "    list2.next = mergeTwoListsRecursive(list1, list2.next)\n",
    "    return list2"
   ]
  },
  {
   "cell_type": "markdown",
   "id": "d6675e0d",
   "metadata": {},
   "source": [
    "# Usage\n",
    "\n"
   ]
  },
  {
   "cell_type": "code",
   "execution_count": null,
   "id": "7c7eba6c",
   "metadata": {},
   "outputs": [],
   "source": [
    "def to_linked_list(arr):\n",
    "  head = ListNode()\n",
    "  tail = head\n",
    "  for val in arr:\n",
    "    tail.next = ListNode(val)\n",
    "    tail = tail.next\n",
    "  return head.next\n",
    "\n",
    "def print_list(node):\n",
    "  while node:\n",
    "    print(node.val, end=\" -> \")\n",
    "    node = node.next\n",
    "  print(\"None\")\n",
    "\n",
    "l1 = to_linked_list([1,2,4])\n",
    "l2 = to_linked_list([1,3,4])\n",
    "\n",
    "merged = mergeTwoLists(l1, l2)\n",
    "print(\"Merged List (Iterative):\")\n",
    "print_list(merged)\n",
    "\n",
    "merged_recursive = mergeTwoListsRecursive(l1, l2)\n",
    "print(\"Merged List (Recursive):\")\n",
    "print_list(merged_recursive)\n"
   ]
  }
 ],
 "metadata": {
  "language_info": {
   "name": "python"
  }
 },
 "nbformat": 4,
 "nbformat_minor": 5
}
