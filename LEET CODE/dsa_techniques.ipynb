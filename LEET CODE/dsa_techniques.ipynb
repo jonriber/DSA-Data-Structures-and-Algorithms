{
 "cells": [
  {
   "cell_type": "markdown",
   "id": "a1e2a2a0",
   "metadata": {},
   "source": [
    "# DSA - Techniques and patterns to solve problems\n",
    "\n",
    "There are several useful techniques and patterns that could be used to solve challenges faster.\n",
    "\n",
    "On this file, I am listing some of them and showing some examples of usage."
   ]
  }
 ],
 "metadata": {
  "language_info": {
   "name": "python"
  }
 },
 "nbformat": 4,
 "nbformat_minor": 5
}
