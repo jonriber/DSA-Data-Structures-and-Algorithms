{
 "cells": [
  {
   "cell_type": "markdown",
   "id": "970e1135",
   "metadata": {},
   "source": [
    "# Decorator - structural Design Pattern\n",
    "\n",
    "Also know as wrapper (adapter design pattern is also know by adapter).\n",
    "\n",
    "This is a simple structural design pattern that enables us to add new behavior and functionalities without\n",
    "modifying the original class (main object).\n",
    "\n",
    "When needed, one could add new layers by recursive composition.\n",
    "\n",
    "## Simplest analogy with the real world\n",
    "\n",
    "Image your character that is ready for summer time, wearing only shots.\n",
    "\n",
    "But, day goes by, and nights comes in, it gets colder and colder.\n",
    "\n",
    "What do you do?\n",
    "\n",
    "The obviously awnser would be: put on some clothes, a t-shirt, a sweater and a jacket.\n",
    "\n",
    "This is it. Decorators on real life. Adding layers, functionalities to a character, to protect him from cold weather or \n",
    "rain, but without having to modify the main character (class)."
   ]
  }
 ],
 "metadata": {
  "language_info": {
   "name": "python"
  }
 },
 "nbformat": 4,
 "nbformat_minor": 5
}
