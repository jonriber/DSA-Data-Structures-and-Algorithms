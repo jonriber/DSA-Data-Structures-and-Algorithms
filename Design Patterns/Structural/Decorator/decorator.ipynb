{
 "cells": [
  {
   "cell_type": "markdown",
   "id": "970e1135",
   "metadata": {},
   "source": [
    "# Decorator - structural Design Pattern\n",
    "\n",
    "Also know as wrapper (adapter design pattern is also know by adapter).\n",
    "\n",
    "This is a simple structural design pattern that enables us to add new behavior and functionalities without\n",
    "modifying the original class (main object).\n",
    "\n",
    "When needed, one could add new layers by `recursive composition`.\n",
    "\n",
    "## Simplest analogy with the real world\n",
    "\n",
    "Image your character that is ready for summer time, wearing only shots.\n",
    "\n",
    "But, day goes by, and nights comes in, it gets colder and colder.\n",
    "\n",
    "What do you do?\n",
    "\n",
    "The obviously awnser would be: put on some clothes, a t-shirt, a sweater and a water proof jacket.\n",
    "\n",
    "This is it. Decorators on real life. Adding layers, functionalities to a character, to protect him from cold weather or \n",
    "rain, but without having to modify the main character (class).\n",
    "\n",
    "## Why is this so important\n",
    "\n",
    "Following S.O.L.I.D principle from OOP, the O stands for \"Open for extension, closed for modification\" on classes.\n",
    "\n",
    "This means that, once a class is created, deployed and being used in production, it would not be a good idea to change it,\n",
    "to add something new or to modify an existing method. This will probably break things and create lots of problems.\n",
    "\n",
    "That's where `decorator design pattern` comes in, wrapping the original class and adding new things as needed.\n",
    "\n"
   ]
  },
  {
   "cell_type": "code",
   "execution_count": null,
   "id": "e194c937",
   "metadata": {},
   "outputs": [],
   "source": [
    "# Decorator example\n",
    "\n",
    "class BasicImageProcessor:\n",
    "  def __init__(self, imagePath):\n",
    "    self.imagePath = imagePath\n",
    "\n",
    "  def process(self):\n",
    "    # some logic to process the image\n",
    "    # for example, resizing or converting format\n",
    "    print(f\"Processing image at {self.imagePath}\")\n",
    "    new_image_path = \"uploads/processed\"\n",
    "    print(f\"Processing image at {self.imagePath} and saving to {new_image_path}\")\n",
    "    return new_image_path"
   ]
  }
 ],
 "metadata": {
  "language_info": {
   "name": "python"
  }
 },
 "nbformat": 4,
 "nbformat_minor": 5
}
